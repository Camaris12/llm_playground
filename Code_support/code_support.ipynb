{
 "cells": [
  {
   "cell_type": "code",
   "execution_count": 2,
   "id": "4cb5b47b-6582-41e0-b2e4-50ba8aa26d63",
   "metadata": {},
   "outputs": [],
   "source": [
    "# imports\n",
    "\n",
    "import os\n",
    "import io\n",
    "import sys\n",
    "from dotenv import load_dotenv\n",
    "from openai import OpenAI\n",
    "import google.generativeai\n",
    "import anthropic\n",
    "from IPython.display import Markdown, display, update_display\n",
    "import gradio as gr\n",
    "import subprocess\n",
    "from huggingface_hub import login, InferenceClient\n",
    "from transformers import AutoTokenizer"
   ]
  },
  {
   "cell_type": "code",
   "execution_count": 3,
   "id": "2ba34774-df76-41e3-ac4e-33def22612c5",
   "metadata": {},
   "outputs": [
    {
     "name": "stdout",
     "output_type": "stream",
     "text": [
      "OpenAI API Key exists and begins sk-proj-\n",
      "Anthropic API Key exists and begins sk-ant-\n",
      "Google API Key exists and begins AIzaSyC0\n",
      "Huggingface Key exists and begins hf_EVcWN\n"
     ]
    },
    {
     "name": "stderr",
     "output_type": "stream",
     "text": [
      "Note: Environment variable`HF_TOKEN` is set and is the current active token independently from the token you've just configured.\n"
     ]
    }
   ],
   "source": [
    "# Load environment variables in a file called .env\n",
    "\n",
    "load_dotenv(override=True)\n",
    "openai_api_key = os.getenv('OPENAI_API_KEY')\n",
    "anthropic_api_key = os.getenv('ANTHROPIC_API_KEY')\n",
    "google_api_key = os.getenv('GOOGLE_API_KEY')\n",
    "hf_token = os.environ['HF_TOKEN']\n",
    "\n",
    "if openai_api_key:\n",
    "    print(f\"OpenAI API Key exists and begins {openai_api_key[:8]}\")\n",
    "else:\n",
    "    print(\"OpenAI API Key not set\")\n",
    "    \n",
    "if anthropic_api_key:\n",
    "    print(f\"Anthropic API Key exists and begins {anthropic_api_key[:7]}\")\n",
    "else:\n",
    "    print(\"Anthropic API Key not set\")\n",
    "\n",
    "if google_api_key:\n",
    "    print(f\"Google API Key exists and begins {google_api_key[:8]}\")\n",
    "else:\n",
    "    print(\"Google API Key not set\")\n",
    "\n",
    "if hf_token:\n",
    "    print(f\"Huggingface Key exists and begins {hf_token[:8]}\")\n",
    "else:\n",
    "    print(\"Huggingface Key not set\")\n",
    "    \n",
    "# Set path for g++ compiler\n",
    "new_path = r\"D:\\w64devkit\\bin\"  # Windows\n",
    "# new_path = \"/usr/local/bin\"  # Linux/Mac\n",
    "os.environ['PATH'] = new_path + os.pathsep + os.environ['PATH']\n",
    "\n",
    "# Set frontier models\n",
    "openai = OpenAI()\n",
    "claude = anthropic.Anthropic()\n",
    "OPENAI_MODEL = \"gpt-4o\"\n",
    "CLAUDE_MODEL = \"claude-3-5-sonnet-20240620\"\n",
    "\n",
    "# Set open source models\n",
    "code_qwen = \"Qwen/CodeQwen1.5-7B-Chat\"\n",
    "CODE_QWEN_URL = \"https://h1vdol7jxhje3mpn.us-east-1.aws.endpoints.huggingface.cloud\"\n",
    "\n",
    "#login to huggingface\n",
    "\n",
    "login(hf_token, add_to_git_credential=True)"
   ]
  },
  {
   "cell_type": "code",
   "execution_count": 4,
   "id": "6f9d88b6-a2c1-4f17-b7e3-69160d09ac83",
   "metadata": {},
   "outputs": [],
   "source": [
    "def system_prompt_for_converting(from_code, to_code):\n",
    "    system_prompt = f\"You are an assistant that reimplements {from_code} code in high performance {to_code}. \"\n",
    "    system_prompt += f\"Respond only with {to_code} code; use comments sparingly and do not provide any explanation other than occasional comments. \"\n",
    "    system_prompt += f\"The {to_code} response needs to produce an identical output in the fastest possible time.\"\n",
    "    return system_prompt"
   ]
  },
  {
   "cell_type": "code",
   "execution_count": 5,
   "id": "cc14d7c4-503b-4b3f-87e2-5c0135c2f7e0",
   "metadata": {},
   "outputs": [],
   "source": [
    "def user_prompt_for_converting(code_to_convert, from_code, to_code):\n",
    "    user_prompt = f\"Rewrite this {from_code} code in {to_code} with the fastest possible implementation that produces identical output in the least time. \"\n",
    "    user_prompt += f\"Respond only with {to_code} code; do not explain your work other than a few comments. \"\n",
    "    \n",
    "    if to_code == \"C++\":\n",
    "        user_prompt += \"Pay attention to number types to ensure no int overflows. Remember to #include all necessary C++ packages such as iomanip.\\n\\n\"\n",
    "        \n",
    "    user_prompt += code_to_convert\n",
    "    \n",
    "    return user_prompt"
   ]
  },
  {
   "cell_type": "code",
   "execution_count": 6,
   "id": "d974d516-4538-491b-bf80-566cbb3a5201",
   "metadata": {},
   "outputs": [],
   "source": [
    "def messages_for_converting(code_to_convert, from_code, to_code):\n",
    "    return [\n",
    "        {\"role\": \"system\", \"content\": system_prompt_for_converting(from_code, to_code)},\n",
    "        {\"role\": \"user\", \"content\": user_prompt_for_converting(code_to_convert, from_code, to_code)}\n",
    "    ]"
   ]
  },
  {
   "cell_type": "code",
   "execution_count": 7,
   "id": "8382af9e-d526-4d79-a55b-58c647e532bd",
   "metadata": {},
   "outputs": [],
   "source": [
    "def write_output_cpp(generated_code):\n",
    "    code = generated_code.replace(\"```cpp\",\"\").replace(\"```\",\"\")\n",
    "    with open(\"optimized.cpp\", \"w\") as f:\n",
    "        f.write(code)"
   ]
  },
  {
   "cell_type": "code",
   "execution_count": 20,
   "id": "5430262a-7304-4d80-9365-5b5a8ee380a1",
   "metadata": {},
   "outputs": [],
   "source": [
    "def stream_gpt(messages):    \n",
    "    stream = openai.chat.completions.create(model=OPENAI_MODEL, messages=messages, stream=True)\n",
    "    reply = \"\"\n",
    "    for chunk in stream:\n",
    "        fragment = chunk.choices[0].delta.content or \"\"\n",
    "        reply += fragment\n",
    "        yield reply.replace('```cpp\\n','').replace('```','')"
   ]
  },
  {
   "cell_type": "code",
   "execution_count": 21,
   "id": "6621ca38-ff82-448d-b3ef-e702ced1df82",
   "metadata": {},
   "outputs": [],
   "source": [
    "def stream_claude(user_message, system_message):\n",
    "    result = claude.messages.stream(\n",
    "        model=CLAUDE_MODEL,\n",
    "        max_tokens=2000,\n",
    "        system=system_message,\n",
    "        messages=[{\"role\": \"user\", \"content\": user_message}],\n",
    "    )\n",
    "    reply = \"\"\n",
    "    with result as stream:\n",
    "        for text in stream.text_stream:\n",
    "            reply += text\n",
    "            yield reply.replace('```cpp\\n','').replace('```','')"
   ]
  },
  {
   "cell_type": "code",
   "execution_count": 22,
   "id": "9f5cdcca-4ea2-4674-a065-144303af6f1d",
   "metadata": {},
   "outputs": [],
   "source": [
    "def stream_code_qwen(messages):\n",
    "    tokenizer = AutoTokenizer.from_pretrained(code_qwen)\n",
    "    text = tokenizer.apply_chat_template(messages, tokenize=False, add_generation_prompt=True)\n",
    "    client = InferenceClient(CODE_QWEN_URL, token=hf_token)\n",
    "    stream = client.text_generation(text, stream=True, details=True, max_new_tokens=3000)\n",
    "    result = \"\"\n",
    "    for r in stream:\n",
    "        result += r.token.text\n",
    "        yield result   "
   ]
  },
  {
   "cell_type": "code",
   "execution_count": 23,
   "id": "438cfe33-a885-4188-8fb4-f3f37b0df57f",
   "metadata": {},
   "outputs": [],
   "source": [
    "def execute_cpp(code):\n",
    "        write_output_cpp(code)\n",
    "        try:\n",
    "            compile_cmd = [\"g++\", \"-std=c++17\", \"-o\", \"optimized\", \"optimized.cpp\"]\n",
    "            compile_result = subprocess.run(compile_cmd, check=True, text=True, capture_output=True)\n",
    "            run_cmd = [\"optimized.exe\"]\n",
    "            run_result = subprocess.run(run_cmd, check=True, text=True, capture_output=True)\n",
    "            return run_result.stdout\n",
    "        except subprocess.CalledProcessError as e:\n",
    "            return f\"An error occurred:\\n{e.stderr}\""
   ]
  },
  {
   "cell_type": "code",
   "execution_count": 24,
   "id": "f15cc0ae-ccbe-46f3-a687-90b56489f4cb",
   "metadata": {},
   "outputs": [],
   "source": [
    "def execute_python(code):\n",
    "    try:\n",
    "        output = io.StringIO()\n",
    "        sys.stdout = output\n",
    "        exec(code)\n",
    "    finally:\n",
    "        sys.stdout = sys.__stdout__\n",
    "    return output.getvalue()"
   ]
  },
  {
   "cell_type": "code",
   "execution_count": 25,
   "id": "b04f91d4-b9a2-4c78-9ccc-2ca6b7ebea08",
   "metadata": {},
   "outputs": [],
   "source": [
    "def execute_code(code,program_language):\n",
    "    if program_language==\"C++\":\n",
    "        return execute_cpp(code)\n",
    "    elif program_language==\"Python\":\n",
    "         return execute_python(code)\n",
    "    else:\n",
    "        raise ValueError(f\"Unknown program language {program_language}\")"
   ]
  },
  {
   "cell_type": "code",
   "execution_count": 26,
   "id": "34f75de7-6f3f-4740-ae0b-20861bba1b08",
   "metadata": {},
   "outputs": [],
   "source": [
    "def convert_code(code_to_convert, model, from_code, to_code):\n",
    "    if model==\"GPT\":\n",
    "        result = stream_gpt(messages_for_converting(code_to_convert, from_code, to_code))\n",
    "    elif model==\"Claude\":\n",
    "        result = stream_claude(user_prompt_for_converting(code_to_convert, from_code, to_code), system_prompt_for_converting(from_code, to_code))\n",
    "    elif model==\"CodeQwen\":\n",
    "        result = stream_code_qwen(messages_for_converting(code_to_convert, from_code, to_code))\n",
    "    else:\n",
    "        raise ValueError(\"Unknown model\")\n",
    "    for stream_so_far in result:\n",
    "        yield stream_so_far    "
   ]
  },
  {
   "cell_type": "code",
   "execution_count": 15,
   "id": "0db3ffc2-f779-41a9-ab6c-868282f4726e",
   "metadata": {},
   "outputs": [],
   "source": [
    "css = \"\"\"\n",
    ".code {background-color: #306998;}\n",
    ".output {background-color: #050;}\n",
    "\"\"\""
   ]
  },
  {
   "cell_type": "code",
   "execution_count": 27,
   "id": "8d3cd931-d419-4f29-928f-1032925b7909",
   "metadata": {},
   "outputs": [
    {
     "data": {
      "text/html": [
       "<div><iframe src=\"http://127.0.0.1:7869/\" width=\"100%\" height=\"500\" allow=\"autoplay; camera; microphone; clipboard-read; clipboard-write;\" frameborder=\"0\" allowfullscreen></iframe></div>"
      ],
      "text/plain": [
       "<IPython.core.display.HTML object>"
      ]
     },
     "metadata": {},
     "output_type": "display_data"
    },
    {
     "data": {
      "text/plain": []
     },
     "execution_count": 27,
     "metadata": {},
     "output_type": "execute_result"
    },
    {
     "name": "stderr",
     "output_type": "stream",
     "text": [
      "Traceback (most recent call last):\n",
      "  File \"D:\\Anaconda\\envs\\llms\\Lib\\site-packages\\gradio\\queueing.py\", line 626, in process_events\n",
      "    response = await route_utils.call_process_api(\n",
      "               ^^^^^^^^^^^^^^^^^^^^^^^^^^^^^^^^^^^\n",
      "  File \"D:\\Anaconda\\envs\\llms\\Lib\\site-packages\\gradio\\route_utils.py\", line 322, in call_process_api\n",
      "    output = await app.get_blocks().process_api(\n",
      "             ^^^^^^^^^^^^^^^^^^^^^^^^^^^^^^^^^^^\n",
      "  File \"D:\\Anaconda\\envs\\llms\\Lib\\site-packages\\gradio\\blocks.py\", line 2220, in process_api\n",
      "    result = await self.call_function(\n",
      "             ^^^^^^^^^^^^^^^^^^^^^^^^^\n",
      "  File \"D:\\Anaconda\\envs\\llms\\Lib\\site-packages\\gradio\\blocks.py\", line 1731, in call_function\n",
      "    prediction = await anyio.to_thread.run_sync(  # type: ignore\n",
      "                 ^^^^^^^^^^^^^^^^^^^^^^^^^^^^^^^^^^^^^^^^^^^^^^^\n",
      "  File \"D:\\Anaconda\\envs\\llms\\Lib\\site-packages\\anyio\\to_thread.py\", line 56, in run_sync\n",
      "    return await get_async_backend().run_sync_in_worker_thread(\n",
      "           ^^^^^^^^^^^^^^^^^^^^^^^^^^^^^^^^^^^^^^^^^^^^^^^^^^^^\n",
      "  File \"D:\\Anaconda\\envs\\llms\\Lib\\site-packages\\anyio\\_backends\\_asyncio.py\", line 2470, in run_sync_in_worker_thread\n",
      "    return await future\n",
      "           ^^^^^^^^^^^^\n",
      "  File \"D:\\Anaconda\\envs\\llms\\Lib\\site-packages\\anyio\\_backends\\_asyncio.py\", line 967, in run\n",
      "    result = context.run(func, *args)\n",
      "             ^^^^^^^^^^^^^^^^^^^^^^^^\n",
      "  File \"D:\\Anaconda\\envs\\llms\\Lib\\site-packages\\gradio\\utils.py\", line 940, in wrapper\n",
      "    response = f(*args, **kwargs)\n",
      "               ^^^^^^^^^^^^^^^^^^\n",
      "  File \"C:\\Users\\kaysc\\AppData\\Local\\Temp\\ipykernel_9860\\2050736285.py\", line 5, in execute_code\n",
      "    return execute_python(code)\n",
      "           ^^^^^^^^^^^^^^^^^^^^\n",
      "  File \"C:\\Users\\kaysc\\AppData\\Local\\Temp\\ipykernel_9860\\1398746867.py\", line 5, in execute_python\n",
      "    exec(code)\n",
      "  File \"<string>\", line 1, in <module>\n",
      "NameError: name 'python' is not defined\n"
     ]
    }
   ],
   "source": [
    "with gr.Blocks(css=css) as ui:\n",
    "    gr.Markdown(\"## Convert code from Python to C++\")\n",
    "    with gr.Row():\n",
    "        from_code = gr.Dropdown([\"C++\", \"Python\"], label=\"Select code base\", value=\"Python\")\n",
    "        code_to_convert = gr.Textbox(label=\"Code base:\", value=python_simple, lines=10)\n",
    "        to_code = gr.Dropdown([\"C++\", \"Python\"], label=\"Select convert to\", value=\"C++\")\n",
    "        generated_code = gr.Textbox(label=f\"Generated code:\", lines=10)\n",
    "    with gr.Row():\n",
    "        model = gr.Dropdown([\"GPT\", \"Claude\", \"CodeQwen\"], label=\"Select model\", value=\"GPT\")\n",
    "    with gr.Row():\n",
    "        convert = gr.Button(\"Convert code\")\n",
    "    with gr.Row():\n",
    "        python_run = gr.Button(\"Run Python\")\n",
    "        cpp_run = gr.Button(\"Run C++\")\n",
    "    with gr.Row():\n",
    "        code_to_convert_out = gr.TextArea(label=\"Python result:\", elem_classes=[\"code\"])\n",
    "        generated_code_out = gr.TextArea(label=\"C++ result:\", elem_classes=[\"output\"])\n",
    "\n",
    "    convert.click(convert_code, inputs=[code_to_convert, model, from_code, to_code], outputs=[generated_code])\n",
    "    python_run.click(execute_code, inputs=[code_to_convert, from_code], outputs=[code_to_convert_out])\n",
    "    cpp_run.click(execute_code, inputs=[generated_code, to_code], outputs=[generated_code_out])\n",
    "\n",
    "ui.launch(inbrowser=True)"
   ]
  },
  {
   "cell_type": "code",
   "execution_count": 17,
   "id": "4ccc6705-a6cf-4302-a5a4-af35a4a33368",
   "metadata": {},
   "outputs": [],
   "source": [
    "python_hard = \"\"\"# Be careful to support large number sizes\n",
    "\n",
    "def lcg(seed, a=1664525, c=1013904223, m=2**32):\n",
    "    value = seed\n",
    "    while True:\n",
    "        value = (a * value + c) % m\n",
    "        yield value\n",
    "        \n",
    "def max_subarray_sum(n, seed, min_val, max_val):\n",
    "    lcg_gen = lcg(seed)\n",
    "    random_numbers = [next(lcg_gen) % (max_val - min_val + 1) + min_val for _ in range(n)]\n",
    "    max_sum = float('-inf')\n",
    "    for i in range(n):\n",
    "        current_sum = 0\n",
    "        for j in range(i, n):\n",
    "            current_sum += random_numbers[j]\n",
    "            if current_sum > max_sum:\n",
    "                max_sum = current_sum\n",
    "    return max_sum\n",
    "\n",
    "def total_max_subarray_sum(n, initial_seed, min_val, max_val):\n",
    "    total_sum = 0\n",
    "    lcg_gen = lcg(initial_seed)\n",
    "    for _ in range(20):\n",
    "        seed = next(lcg_gen)\n",
    "        total_sum += max_subarray_sum(n, seed, min_val, max_val)\n",
    "    return total_sum\n",
    "\n",
    "# Parameters\n",
    "n = 10000         # Number of random numbers\n",
    "initial_seed = 42 # Initial seed for the LCG\n",
    "min_val = -10     # Minimum value of random numbers\n",
    "max_val = 10      # Maximum value of random numbers\n",
    "\n",
    "# Timing the function\n",
    "import time\n",
    "start_time = time.time()\n",
    "result = total_max_subarray_sum(n, initial_seed, min_val, max_val)\n",
    "end_time = time.time()\n",
    "\n",
    "print(\"Total Maximum Subarray Sum (20 runs):\", result)\n",
    "print(\"Execution Time: {:.6f} seconds\".format(end_time - start_time))\n",
    "\"\"\""
   ]
  },
  {
   "cell_type": "code",
   "execution_count": 18,
   "id": "3b3802e0-8f0a-47d6-9e52-8315fa939355",
   "metadata": {},
   "outputs": [],
   "source": [
    "python_simple = \"\"\"\n",
    "import time\n",
    "\n",
    "def calculate(iterations, param1, param2):\n",
    "    result = 1.0\n",
    "    for i in range(1, iterations+1):\n",
    "        j = i * param1 - param2\n",
    "        result -= (1/j)\n",
    "        j = i * param1 + param2\n",
    "        result += (1/j)\n",
    "    return result\n",
    "\n",
    "start_time = time.time()\n",
    "result = calculate(100_000_000, 4, 1) * 4\n",
    "end_time = time.time()\n",
    "\n",
    "print(f\"Result: {result:.12f}\")\n",
    "print(f\"Execution Time: {(end_time - start_time):.6f} seconds\")\n",
    "\"\"\""
   ]
  },
  {
   "cell_type": "code",
   "execution_count": null,
   "id": "9b39697f-6067-4662-8508-d085edaf7bee",
   "metadata": {},
   "outputs": [],
   "source": []
  }
 ],
 "metadata": {
  "kernelspec": {
   "display_name": "Python 3 (ipykernel)",
   "language": "python",
   "name": "python3"
  },
  "language_info": {
   "codemirror_mode": {
    "name": "ipython",
    "version": 3
   },
   "file_extension": ".py",
   "mimetype": "text/x-python",
   "name": "python",
   "nbconvert_exporter": "python",
   "pygments_lexer": "ipython3",
   "version": "3.11.13"
  }
 },
 "nbformat": 4,
 "nbformat_minor": 5
}
