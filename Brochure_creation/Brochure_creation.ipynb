{
 "cells": [
  {
   "cell_type": "code",
   "execution_count": 1,
   "id": "9b7dde67-44c4-4770-b5da-b255ad8c200b",
   "metadata": {},
   "outputs": [],
   "source": [
    "# imports\n",
    "# If these fail, please check you're running from an 'activated' environment with (llms) in the command prompt\n",
    "\n",
    "import os\n",
    "import requests\n",
    "import json\n",
    "from typing import List\n",
    "from dotenv import load_dotenv\n",
    "from bs4 import BeautifulSoup\n",
    "from IPython.display import Markdown, display, update_display\n",
    "from openai import OpenAI"
   ]
  },
  {
   "cell_type": "code",
   "execution_count": 4,
   "id": "8a5521e3-4056-46c2-af48-0b12c23b5e4e",
   "metadata": {},
   "outputs": [],
   "source": [
    "link_system_prompt = \"You are provided with a list of links found on a webpage. \\\n",
    "You are able to decide which of the links would be most relevant to include in a brochure about the company, \\\n",
    "such as links to an About page, or a Company page, or Careers/Jobs pages.\\n\"\n",
    "link_system_prompt += \"You should respond in JSON as in this example:\"\n",
    "link_system_prompt += \"\"\"\n",
    "{\n",
    "    \"links\": [\n",
    "        {\"type\": \"about page\", \"url\": \"https://full.url/goes/here/about\"},\n",
    "        {\"type\": \"careers page\": \"url\": \"https://another.full.url/careers\"}\n",
    "    ]\n",
    "}\n",
    "\"\"\""
   ]
  },
  {
   "cell_type": "code",
   "execution_count": 12,
   "id": "e4efca13-65be-4c22-844a-695a2a0c0c0c",
   "metadata": {},
   "outputs": [],
   "source": [
    "brochure_prompt = \"You are an assistant that analyzes the contents of several relevant pages from a company website \\\n",
    "and creates a short brochure about the company for prospective customers, investors and recruits. Respond in markdown.\\\n",
    "Include details of company culture, customers and careers/jobs if you have the information.\"\n"
   ]
  },
  {
   "cell_type": "code",
   "execution_count": 22,
   "id": "8763f1d7-2d65-4b42-b43e-c856f999e193",
   "metadata": {},
   "outputs": [],
   "source": [
    "translater_prompt = \"You are a translater how translate the given Borchure.\"\n"
   ]
  },
  {
   "cell_type": "code",
   "execution_count": 2,
   "id": "522a8fe7-76d7-4fc4-a4b7-b76aac5815b9",
   "metadata": {
    "scrolled": true
   },
   "outputs": [
    {
     "name": "stdout",
     "output_type": "stream",
     "text": [
      "API key looks good so far\n"
     ]
    }
   ],
   "source": [
    "load_dotenv(override=True)\n",
    "api_key = os.getenv('OPENAI_API_KEY')\n",
    "\n",
    "if api_key and api_key.startswith('sk-proj-') and len(api_key)>10:\n",
    "    print(\"API key looks good so far\")\n",
    "else:\n",
    "    print(\"There might be a problem with your API key? Please visit the troubleshooting notebook!\")\n",
    "    \n",
    "MODEL = 'gpt-4o-mini'\n",
    "openai = OpenAI()"
   ]
  },
  {
   "cell_type": "code",
   "execution_count": 3,
   "id": "c320bd79-8828-4487-b1a8-1c3201b05ab7",
   "metadata": {},
   "outputs": [],
   "source": [
    "# A class to represent a Webpage\n",
    "\n",
    "# Some websites need you to use proper headers when fetching them:\n",
    "headers = {\n",
    " \"User-Agent\": \"Mozilla/5.0 (Windows NT 10.0; Win64; x64) AppleWebKit/537.36 (KHTML, like Gecko) Chrome/117.0.0.0 Safari/537.36\"\n",
    "}\n",
    "\n",
    "class Website:\n",
    "    \"\"\"\n",
    "    A utility class to represent a Website that we have scraped, now with links\n",
    "    \"\"\"\n",
    "\n",
    "    def __init__(self, url):\n",
    "        self.url = url\n",
    "        response = requests.get(url, headers=headers)\n",
    "        self.body = response.content\n",
    "        soup = BeautifulSoup(self.body, 'html.parser')\n",
    "        self.title = soup.title.string if soup.title else \"No title found\"\n",
    "        if soup.body:\n",
    "            for irrelevant in soup.body([\"script\", \"style\", \"img\", \"input\"]):\n",
    "                irrelevant.decompose()\n",
    "            self.text = soup.body.get_text(separator=\"\\n\", strip=True)\n",
    "        else:\n",
    "            self.text = \"\"\n",
    "        links = [link.get('href') for link in soup.find_all('a')]\n",
    "        self.links = [link for link in links if link]\n",
    "\n",
    "    def get_contents(self):\n",
    "        return f\"Webpage Title:\\n{self.title}\\nWebpage Contents:\\n{self.text}\\n\\n\""
   ]
  },
  {
   "cell_type": "code",
   "execution_count": 5,
   "id": "974dc972-aa09-4c74-b1f4-8d59cbdc797a",
   "metadata": {},
   "outputs": [],
   "source": [
    "def get_links_user_prompt(website):\n",
    "    user_prompt = f\"Here is the list of links on the website of {website.url} - \"\n",
    "    user_prompt += \"please decide which of these are relevant web links for a brochure about the company, respond with the full https URL in JSON format. \\\n",
    "Do not include Terms of Service, Privacy, email links.\\n\"\n",
    "    user_prompt += \"Links (some might be relative links):\\n\"\n",
    "    user_prompt += \"\\n\".join(website.links)\n",
    "    return user_prompt"
   ]
  },
  {
   "cell_type": "code",
   "execution_count": 6,
   "id": "f1899d5b-311b-468f-887c-c8ccb75f4da0",
   "metadata": {},
   "outputs": [],
   "source": [
    "def get_links(url):\n",
    "    website = Website(url)\n",
    "    response = openai.chat.completions.create(\n",
    "        model=MODEL,\n",
    "        messages=[\n",
    "            {\"role\": \"system\", \"content\": link_system_prompt},\n",
    "            {\"role\": \"user\", \"content\": get_links_user_prompt(website)}\n",
    "      ],\n",
    "        response_format={\"type\": \"json_object\"}\n",
    "    )\n",
    "    result = response.choices[0].message.content\n",
    "    return json.loads(result)"
   ]
  },
  {
   "cell_type": "code",
   "execution_count": 7,
   "id": "ea588bbe-cca7-4cb4-af75-05ec9ea51531",
   "metadata": {},
   "outputs": [],
   "source": [
    "def get_all_details(url):\n",
    "    result = \"Landing page:\\n\"\n",
    "    result += Website(url).get_contents()\n",
    "    links = get_links(url)\n",
    "    print(\"Found links:\", links)\n",
    "    for link in links[\"links\"]:\n",
    "        result += f\"\\n\\n{link['type']}\\n\"\n",
    "        result += Website(link[\"url\"]).get_contents()\n",
    "    return result"
   ]
  },
  {
   "cell_type": "code",
   "execution_count": 14,
   "id": "503701d0-8dbd-4e8b-81f8-daca8a832b41",
   "metadata": {},
   "outputs": [],
   "source": [
    "def get_brochure_user_prompt(company_name, url):\n",
    "    user_prompt = f\"You are looking at a company called: {company_name}\\n\"\n",
    "    user_prompt += f\"Here are the contents of its landing page and other relevant pages; use this information to build a short brochure of the company in markdown.\\n\"\n",
    "    user_prompt += get_all_details(url)\n",
    "    user_prompt = user_prompt[:5_000] # Truncate if more than 5,000 characters\n",
    "    return user_prompt"
   ]
  },
  {
   "cell_type": "code",
   "execution_count": 56,
   "id": "5eeb1fd8-3a02-421e-aec9-fe3c090333b8",
   "metadata": {},
   "outputs": [],
   "source": [
    "def stream_brochure(company_name, url):\n",
    "    brochure = \"\"\n",
    "    stream = openai.chat.completions.create(\n",
    "        model=MODEL,\n",
    "        messages=[\n",
    "            {\"role\": \"system\", \"content\": brochure_prompt},\n",
    "            {\"role\": \"user\", \"content\": get_brochure_user_prompt(company_name, url)}\n",
    "          ],\n",
    "        stream=True\n",
    "    )\n",
    "    \n",
    "    response = \"\"\n",
    "    display_handle = display(Markdown(\"\"), display_id=True)\n",
    "    for chunk in stream:\n",
    "        response += chunk.choices[0].delta.content or ''\n",
    "        response = response.replace(\"```\",\"\").replace(\"markdown\", \"\")\n",
    "        brochure += response\n",
    "        update_display(Markdown(response), display_id=display_handle.display_id)\n",
    "     return brochure"
   ]
  },
  {
   "cell_type": "code",
   "execution_count": 66,
   "id": "3e803437-9c3d-4465-a046-e840604e26e9",
   "metadata": {},
   "outputs": [],
   "source": [
    "def create_brochure(company_name, url):\n",
    "    response = openai.chat.completions.create(\n",
    "        model=MODEL,\n",
    "        messages=[\n",
    "            {\"role\": \"system\", \"content\": brochure_prompt},\n",
    "            {\"role\": \"user\", \"content\": get_brochure_user_prompt(company_name, url)}\n",
    "          ],\n",
    "    )\n",
    "    result = response.choices[0].message.content\n",
    "    return result"
   ]
  },
  {
   "cell_type": "code",
   "execution_count": 67,
   "id": "b9d0cae3-8129-487c-bd71-b19d2ecd147f",
   "metadata": {},
   "outputs": [],
   "source": [
    "def get_user_translater_prompt(language, brochure):\n",
    "    user_prompt = f\"You are translate the following brochure into {language}:\\n\"\n",
    "    user_prompt += f\"Here are the contents of brochure; return same format as the brochure had before Markdown\\n\"\n",
    "    user_prompt += brochure\n",
    "    user_prompt = user_prompt[:5_000] # Truncate if more than 5,000 characters\n",
    "    return user_prompt"
   ]
  },
  {
   "cell_type": "code",
   "execution_count": 68,
   "id": "6641bd63-95f3-49c0-9c69-7dafbcce17cc",
   "metadata": {},
   "outputs": [],
   "source": [
    "def translate_brochure(company_name, url):\n",
    "    brochure = create_brochure(company_name, url)\n",
    "    stream = openai.chat.completions.create(\n",
    "        model=MODEL,\n",
    "        messages=[\n",
    "            {\"role\": \"system\", \"content\": translater_prompt},\n",
    "            {\"role\": \"user\", \"content\": get_user_translater_prompt(\"Deutsch\", brochure)}\n",
    "          ],\n",
    "        stream=True\n",
    "    )\n",
    "    \n",
    "    response = \"\"\n",
    "    display_handle = display(Markdown(\"\"), display_id=True)\n",
    "    for chunk in stream:\n",
    "        response += chunk.choices[0].delta.content or ''\n",
    "        response = response.replace(\"```\",\"\").replace(\"markdown\", \"\")\n",
    "        update_display(Markdown(response), display_id=display_handle.display_id)"
   ]
  },
  {
   "cell_type": "code",
   "execution_count": 69,
   "id": "737dad8e-9577-4a9d-ae76-d186b0908ee6",
   "metadata": {},
   "outputs": [
    {
     "name": "stdout",
     "output_type": "stream",
     "text": [
      "Found links: {'links': [{'type': 'about page', 'url': 'https://huggingface.co'}, {'type': 'enterprise page', 'url': 'https://huggingface.co/enterprise'}, {'type': 'pricing page', 'url': 'https://huggingface.co/pricing'}, {'type': 'careers page', 'url': 'https://apply.workable.com/huggingface/'}, {'type': 'blog page', 'url': 'https://huggingface.co/blog'}, {'type': 'discussion page', 'url': 'https://discuss.huggingface.co'}, {'type': 'GitHub page', 'url': 'https://github.com/huggingface'}, {'type': 'Twitter page', 'url': 'https://twitter.com/huggingface'}, {'type': 'LinkedIn page', 'url': 'https://www.linkedin.com/company/huggingface/'}]}\n"
     ]
    },
    {
     "data": {
      "text/markdown": [
       "\n",
       "# Hugging Face: Die KI-Community, die die Zukunft gestaltet\n",
       "\n",
       "Willkommen bei **Hugging Face**, der führenden Plattform, auf der die Machine-Learning-Community an innovativen Modellen, Datensätzen und Anwendungen zusammenarbeitet. Unsere Mission ist es, die Entwicklung von KI-Technologien zu beschleunigen und gleichzeitig ein inklusives Umfeld für Lernen und Wachstum zu schaffen.\n",
       "\n",
       "## Unternehmensübersicht\n",
       "\n",
       "Bei Hugging Face bringen wir Datenwissenschaftler, Ingenieure und KI-Enthusiasten aus der ganzen Welt zusammen, um hochmoderne Machine-Learning-Lösungen zu entwickeln. Unsere Plattform beherbergt über **1 Million Modelle** und **250.000 Datensätze**, was sie zu einer wertvollen Ressource für Praktiker und Forscher macht.\n",
       "\n",
       "### Hauptangebote:\n",
       "- **Modelle**: Entdecken Sie eine Vielzahl von angesagten ML-Modellen, darunter Text-, Bild-, Video-, Audio- und 3D-Modelle.\n",
       "- **Datensätze**: Greifen Sie auf verschiedene Datensätze zu und teilen Sie diese, die auf jede ML-Aufgabe zugeschnitten sind.\n",
       "- **Spaces**: Arbeiten Sie mit anderen an der Entwicklung und dem Betrieb von Anwendungen, die fortschrittliche KI-Technologien nutzen.\n",
       "- **Enterprise-Lösungen**: Bieten Sie Teams fortschrittliche Werkzeuge zur Entwicklung von KI mit Unternehmenssicherheit und dedizierter Unterstützung.\n",
       "\n",
       "## Kultur und Gemeinschaft\n",
       "\n",
       "Hugging Face ist mehr als nur ein Unternehmen; es ist eine florierende Gemeinschaft von KI-Profis und Lernenden. Unsere Kultur fördert Zusammenarbeit, Experimentierfreude und Teilen. Wir glauben an die Kraft von **Open Source** und tragen aktiv zur Zukunft des Machine Learning durch gemeinschaftliche Werkzeuge wie Transformers und Diffusers bei.\n",
       "\n",
       "### Gemeinschaftsinitiativen:\n",
       "- Nehmen Sie an Foren teil und tragen Sie zu Projekten bei.\n",
       "- Besuchen Sie von der Gemeinschaft geleitete Veranstaltungen, um Wissen und Erkenntnisse auszutauschen.\n",
       "- Beteiligen Sie sich an Diskussionen auf **GitHub**, **Discord** und anderen sozialen Plattformen.\n",
       "\n",
       "## Kunden\n",
       "\n",
       "Mehr als **50.000 Organisationen** nutzen Hugging Face, um ihre KI-Fähigkeiten zu verbessern, darunter Branchenführer wie Amazon, Google, Intel und Microsoft. Unsere Plattform wird sowohl von Unternehmen als auch von gemeinnützigen Organisationen vertraut, die alle bestrebt sind, die Grenzen der KI-Technologie zu erweitern.\n",
       "\n",
       "## Treten Sie unserem Team bei\n",
       "\n",
       "Bei Hugging Face suchen wir ständig nach leidenschaftlichen Menschen, die unserem vielfältigen Team beitreten möchten. Wenn Sie sich für KI begeistern und zu bahnbrechenden Projekten beitragen möchten, schauen Sie sich unsere [Karriereseite](https://huggingface.co/jobs) für aktuelle Stellenangebote an!\n",
       "\n",
       "### Zusammenarbeit mit uns:\n",
       "- **Innovatives Umfeld**: Arbeiten Sie mit einigen der hellsten Köpfe im Bereich KI zusammen.\n",
       "- **Wachstumschancen**: Kontinuierliches Lernen und berufliche Entwicklung werden gefördert.\n",
       "- **Inklusive Kultur**: Wir heißen unterschiedliche Perspektiven und Ideen willkommen und fördern ein Gefühl der Zugehörigkeit für alle Mitarbeiter.\n",
       "\n",
       "---\n",
       "\n",
       "Kommen Sie mit uns zusammen, um die Zukunft der künstlichen Intelligenz zu gestalten!\n",
       "Erfahren Sie mehr unter [huggingface.co](https://huggingface.co)\n"
      ],
      "text/plain": [
       "<IPython.core.display.Markdown object>"
      ]
     },
     "metadata": {},
     "output_type": "display_data"
    }
   ],
   "source": [
    "translate_brochure(\"HuggingFace\", \"https://huggingface.co\")"
   ]
  },
  {
   "cell_type": "code",
   "execution_count": null,
   "id": "f0a7db16-5e3b-41a7-958f-bbe4d2af7b98",
   "metadata": {},
   "outputs": [],
   "source": []
  }
 ],
 "metadata": {
  "kernelspec": {
   "display_name": "Python 3 (ipykernel)",
   "language": "python",
   "name": "python3"
  },
  "language_info": {
   "codemirror_mode": {
    "name": "ipython",
    "version": 3
   },
   "file_extension": ".py",
   "mimetype": "text/x-python",
   "name": "python",
   "nbconvert_exporter": "python",
   "pygments_lexer": "ipython3",
   "version": "3.11.12"
  }
 },
 "nbformat": 4,
 "nbformat_minor": 5
}
