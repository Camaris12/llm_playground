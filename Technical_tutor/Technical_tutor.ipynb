{
 "cells": [
  {
   "cell_type": "code",
   "execution_count": 15,
   "id": "8b2b904f-038b-4c66-92ea-3c5067bee310",
   "metadata": {},
   "outputs": [],
   "source": [
    "import os\n",
    "import requests\n",
    "import ollama\n",
    "import gradio as gr\n",
    "from dotenv import load_dotenv\n",
    "from IPython.display import Markdown, display, update_display\n",
    "from openai import OpenAI\n",
    "import anthropic"
   ]
  },
  {
   "cell_type": "code",
   "execution_count": 2,
   "id": "5cb1ce6d-5e8f-4942-a4b7-b400a0d32468",
   "metadata": {},
   "outputs": [],
   "source": [
    "# constants\n",
    "\n",
    "MODEL_GPT = 'gpt-4o-mini'\n",
    "MODEL_LLAMA = 'llama3.2'\n",
    "MODEL_CLAUDE = \"claude-3-haiku-20240307\""
   ]
  },
  {
   "cell_type": "code",
   "execution_count": 26,
   "id": "cd3e9d5b-b11c-4bb0-b6a2-d85c531f3835",
   "metadata": {},
   "outputs": [],
   "source": [
    "technical_prompt = \"Du bist ein Experte in der Softwareentwicklung für die Sprache Python, C# und C++. Du unterstützt die Softwareentwickler dabei ihren Code zu verbessern und bewertest ihren Programierstil.\""
   ]
  },
  {
   "cell_type": "code",
   "execution_count": 27,
   "id": "ffeea2f0-5033-4951-ad1a-00129afadac8",
   "metadata": {},
   "outputs": [],
   "source": [
    "user_prompt = \"Analysiere und bewerte folgenden Code und erstelle einen Bericht in Markdown mit Verbesserungsvorschläge (ohne Code Beispiele). Bitte Stufe den Code ein ob er Beginner, Normal, Senior oder Expert Level hat:/n\"\n",
    "code = \"\"\"using System.IdentityModel.Tokens.Jwt;\n",
    "                using System.Security.Claims;\n",
    "                using API.DTOs;\n",
    "                using Blazored.LocalStorage;\n",
    "                using Microsoft.AspNetCore.Components.Authorization;\n",
    "                \n",
    "                namespace Client.Components.Provider;\n",
    "                \n",
    "                public class CustomAuthenticationStateProvider : AuthenticationStateProvider\n",
    "                {\n",
    "                    private readonly ILocalStorageService _localStorage;\n",
    "                    private readonly HttpClient _httpClient;\n",
    "                \n",
    "                    public CustomAuthenticationStateProvider(\n",
    "                        ILocalStorageService localStorage,\n",
    "                        HttpClient httpClient)\n",
    "                    {\n",
    "                        _localStorage = localStorage;\n",
    "                        _httpClient = httpClient;\n",
    "                    }\n",
    "                \n",
    "                    public override async Task<AuthenticationState> GetAuthenticationStateAsync()\n",
    "                    {\n",
    "                        var user = await _localStorage.GetItemAsync<UserDto>(\"user\");\n",
    "                \n",
    "                        if (user == null || string.IsNullOrEmpty(user.Token))\n",
    "                        {\n",
    "                            return new AuthenticationState(new ClaimsPrincipal(new ClaimsIdentity()));\n",
    "                        }\n",
    "                \n",
    "                        SetAuthorizationHeader(user.Token);\n",
    "                \n",
    "                        var claims = ParseClaimsFromJwt(user.Token);\n",
    "                        var identity = new ClaimsIdentity(claims, \"jwt\");\n",
    "                        var principal = new ClaimsPrincipal(identity);\n",
    "                \n",
    "                        return new AuthenticationState(principal);\n",
    "                    }\n",
    "                \n",
    "                    public async Task SetAuthenticationState(UserDto user)\n",
    "                    {\n",
    "                        if (user != null)\n",
    "                        {\n",
    "                            SetAuthorizationHeader(user.Token);\n",
    "                            var claims = ParseClaimsFromJwt(user.Token);\n",
    "                            var identity = new ClaimsIdentity(claims, \"jwt\");\n",
    "                            var principal = new ClaimsPrincipal(identity);\n",
    "                            NotifyAuthenticationStateChanged(Task.FromResult(new AuthenticationState(principal)));\n",
    "                        }\n",
    "                        else\n",
    "                        {\n",
    "                            _httpClient.DefaultRequestHeaders.Authorization = null;\n",
    "                            NotifyAuthenticationStateChanged(Task.FromResult(new AuthenticationState(new ClaimsPrincipal())));\n",
    "                        }\n",
    "                    }\n",
    "                \n",
    "                    private void SetAuthorizationHeader(string token)\n",
    "                    {\n",
    "                        _httpClient.DefaultRequestHeaders.Authorization = \n",
    "                            new System.Net.Http.Headers.AuthenticationHeaderValue(\"Bearer\", token);\n",
    "                    }\n",
    "                \n",
    "                    private IEnumerable<Claim> ParseClaimsFromJwt(string jwt)\n",
    "                    {\n",
    "                        var handler = new JwtSecurityTokenHandler();\n",
    "                        var token = handler.ReadJwtToken(jwt);\n",
    "                        return token.Claims;\n",
    "                    }\n",
    "                }\"\"\""
   ]
  },
  {
   "cell_type": "code",
   "execution_count": 22,
   "id": "b0a085c9-fb86-4adb-8ddc-7ef54b287b8d",
   "metadata": {},
   "outputs": [
    {
     "name": "stdout",
     "output_type": "stream",
     "text": [
      "OpenAI API Key exists and begins sk-proj-\n",
      "Anthropic API Key exists and begins sk-ant-\n",
      "Google API Key exists and begins AIzaSyC0\n"
     ]
    }
   ],
   "source": [
    "# Load environment variables in a file called .env\n",
    "# Print the key prefixes to help with any debugging\n",
    "\n",
    "load_dotenv(override=True)\n",
    "openai_api_key = os.getenv('OPENAI_API_KEY')\n",
    "anthropic_api_key = os.getenv('ANTHROPIC_API_KEY')\n",
    "google_api_key = os.getenv('GOOGLE_API_KEY')\n",
    "\n",
    "if openai_api_key:\n",
    "    print(f\"OpenAI API Key exists and begins {openai_api_key[:8]}\")\n",
    "else:\n",
    "    print(\"OpenAI API Key not set\")\n",
    "    \n",
    "if anthropic_api_key:\n",
    "    print(f\"Anthropic API Key exists and begins {anthropic_api_key[:7]}\")\n",
    "else:\n",
    "    print(\"Anthropic API Key not set\")\n",
    "\n",
    "if google_api_key:\n",
    "    print(f\"Google API Key exists and begins {google_api_key[:8]}\")\n",
    "else:\n",
    "    print(\"Google API Key not set\")"
   ]
  },
  {
   "cell_type": "code",
   "execution_count": 54,
   "id": "28d1d48b-ca26-4327-a0e0-470f8a8332cc",
   "metadata": {},
   "outputs": [],
   "source": [
    "def get_open_ai(model):\n",
    "    if model==\"llama\":\n",
    "        return OpenAI(base_url='http://localhost:11434/v1', api_key='ollama')\n",
    "        \n",
    "    return OpenAI()"
   ]
  },
  {
   "cell_type": "code",
   "execution_count": 58,
   "id": "6c28ae1b-d68c-439a-96b5-a87af65ffba1",
   "metadata": {},
   "outputs": [],
   "source": [
    "def get_open_ai_model_version(model):\n",
    "    if model==\"llama\":\n",
    "        return MODEL_LLAMA\n",
    "        \n",
    "    return MODEL_GPT"
   ]
  },
  {
   "cell_type": "code",
   "execution_count": 57,
   "id": "384215ef-7844-418d-83a5-437c21c7b6f1",
   "metadata": {},
   "outputs": [],
   "source": [
    "def stream_open_ai(prompt, model):\n",
    "    openai = get_open_ai(model)\n",
    "    model_version = get_open_ai_model_version(model)\n",
    "    \n",
    "    messages = [\n",
    "        {\"role\": \"system\", \"content\": technical_prompt},\n",
    "        {\"role\": \"user\", \"content\": prompt}\n",
    "    ]\n",
    "    \n",
    "    stream = openai.chat.completions.create(\n",
    "        model=model_version,\n",
    "        messages=messages,\n",
    "        stream=True\n",
    "    )\n",
    "    \n",
    "    result = \"\"\n",
    "    for chunk in stream:\n",
    "        result += chunk.choices[0].delta.content or \"\"\n",
    "        yield result"
   ]
  },
  {
   "cell_type": "code",
   "execution_count": 18,
   "id": "3a58e947-e996-49bb-9f46-c3a2a58cf8f3",
   "metadata": {},
   "outputs": [],
   "source": [
    "def stream_claude(prompt):\n",
    "    claude = anthropic.Anthropic()\n",
    "    result = claude.messages.stream(\n",
    "        model=MODEL_CLAUDE,\n",
    "        max_tokens=1000,\n",
    "        temperature=0.7,\n",
    "        system=technical_prompt,\n",
    "        messages=[\n",
    "            {\"role\": \"user\", \"content\": prompt},\n",
    "        ],\n",
    "    )\n",
    "    response = \"\"\n",
    "    with result as stream:\n",
    "        for text in stream.text_stream:\n",
    "            response += text or \"\"\n",
    "            yield response"
   ]
  },
  {
   "cell_type": "code",
   "execution_count": 59,
   "id": "397a3d61-8d69-4744-91fc-f65857c45c5b",
   "metadata": {},
   "outputs": [],
   "source": [
    "def analyze_code(code, model):\n",
    "    prompt = user_prompt + code\n",
    "    \n",
    "    if model==\"GPT\" or model==\"llama\":\n",
    "        result = stream_open_ai(prompt, model)\n",
    "    elif model==\"Claude\":\n",
    "        result = stream_claude(prompt)\n",
    "    else:\n",
    "        raise ValueError(\"Unknown model\")\n",
    "        \n",
    "    yield from result"
   ]
  },
  {
   "cell_type": "code",
   "execution_count": 60,
   "id": "54d29911-1a97-4d5c-b603-48f174f00d90",
   "metadata": {},
   "outputs": [
    {
     "name": "stdout",
     "output_type": "stream",
     "text": [
      "* Running on local URL:  http://127.0.0.1:7891\n",
      "* To create a public link, set `share=True` in `launch()`.\n"
     ]
    },
    {
     "data": {
      "text/html": [
       "<div><iframe src=\"http://127.0.0.1:7891/\" width=\"100%\" height=\"500\" allow=\"autoplay; camera; microphone; clipboard-read; clipboard-write;\" frameborder=\"0\" allowfullscreen></iframe></div>"
      ],
      "text/plain": [
       "<IPython.core.display.HTML object>"
      ]
     },
     "metadata": {},
     "output_type": "display_data"
    },
    {
     "data": {
      "text/plain": []
     },
     "execution_count": 60,
     "metadata": {},
     "output_type": "execute_result"
    }
   ],
   "source": [
    "view = gr.Interface(\n",
    "    fn=analyze_code,\n",
    "    inputs=[gr.Textbox(label=\"Your Code:\"), gr.Dropdown([\"GPT\", \"Claude\", \"llama\"], label=\"Select model\", value=\"GPT\")],\n",
    "    outputs=[gr.Markdown(label=\"Response:\")],\n",
    "    flagging_mode=\"never\"\n",
    ")\n",
    "view.launch()"
   ]
  },
  {
   "cell_type": "code",
   "execution_count": null,
   "id": "d005d110-c620-4c41-87e3-30d4df458415",
   "metadata": {},
   "outputs": [],
   "source": []
  }
 ],
 "metadata": {
  "kernelspec": {
   "display_name": "Python 3 (ipykernel)",
   "language": "python",
   "name": "python3"
  },
  "language_info": {
   "codemirror_mode": {
    "name": "ipython",
    "version": 3
   },
   "file_extension": ".py",
   "mimetype": "text/x-python",
   "name": "python",
   "nbconvert_exporter": "python",
   "pygments_lexer": "ipython3",
   "version": "3.11.13"
  }
 },
 "nbformat": 4,
 "nbformat_minor": 5
}
