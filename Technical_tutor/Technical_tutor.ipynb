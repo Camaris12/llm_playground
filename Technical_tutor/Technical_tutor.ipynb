{
 "cells": [
  {
   "cell_type": "code",
   "execution_count": 20,
   "id": "8b2b904f-038b-4c66-92ea-3c5067bee310",
   "metadata": {},
   "outputs": [],
   "source": [
    "import os\n",
    "import requests\n",
    "import ollama\n",
    "from dotenv import load_dotenv\n",
    "from IPython.display import Markdown, display, update_display\n",
    "from openai import OpenAI"
   ]
  },
  {
   "cell_type": "code",
   "execution_count": 7,
   "id": "5cb1ce6d-5e8f-4942-a4b7-b400a0d32468",
   "metadata": {},
   "outputs": [],
   "source": [
    "# constants\n",
    "\n",
    "MODEL_GPT = 'gpt-4o-mini'\n",
    "MODEL_LLAMA = 'llama3.2'"
   ]
  },
  {
   "cell_type": "code",
   "execution_count": 8,
   "id": "cd3e9d5b-b11c-4bb0-b6a2-d85c531f3835",
   "metadata": {},
   "outputs": [],
   "source": [
    "technical_prompt = \"Du bist ein Experte in der Softwareentwicklung für die Sprache Python, C# und C++. Du unterstützt die Softwareentwickler dabei ihren Code zu verbessern und bewertest ihren Programierstil.\""
   ]
  },
  {
   "cell_type": "code",
   "execution_count": 28,
   "id": "ffeea2f0-5033-4951-ad1a-00129afadac8",
   "metadata": {},
   "outputs": [],
   "source": [
    "user_prompt = \"Analysiere und bewerte folgenden C# code und erstelle einen Bericht in Markdown mit Verbesserungsvorschläge (ohne Code Beispiele) und einer Bewertung nach Entwickler Level (Beginer, Normal, Senior, Expert):/n\"\n",
    "user_prompt += \"\"\"using System.IdentityModel.Tokens.Jwt;\n",
    "                using System.Security.Claims;\n",
    "                using API.DTOs;\n",
    "                using Blazored.LocalStorage;\n",
    "                using Microsoft.AspNetCore.Components.Authorization;\n",
    "                \n",
    "                namespace Client.Components.Provider;\n",
    "                \n",
    "                public class CustomAuthenticationStateProvider : AuthenticationStateProvider\n",
    "                {\n",
    "                    private readonly ILocalStorageService _localStorage;\n",
    "                    private readonly HttpClient _httpClient;\n",
    "                \n",
    "                    public CustomAuthenticationStateProvider(\n",
    "                        ILocalStorageService localStorage,\n",
    "                        HttpClient httpClient)\n",
    "                    {\n",
    "                        _localStorage = localStorage;\n",
    "                        _httpClient = httpClient;\n",
    "                    }\n",
    "                \n",
    "                    public override async Task<AuthenticationState> GetAuthenticationStateAsync()\n",
    "                    {\n",
    "                        var user = await _localStorage.GetItemAsync<UserDto>(\"user\");\n",
    "                \n",
    "                        if (user == null || string.IsNullOrEmpty(user.Token))\n",
    "                        {\n",
    "                            return new AuthenticationState(new ClaimsPrincipal(new ClaimsIdentity()));\n",
    "                        }\n",
    "                \n",
    "                        SetAuthorizationHeader(user.Token);\n",
    "                \n",
    "                        var claims = ParseClaimsFromJwt(user.Token);\n",
    "                        var identity = new ClaimsIdentity(claims, \"jwt\");\n",
    "                        var principal = new ClaimsPrincipal(identity);\n",
    "                \n",
    "                        return new AuthenticationState(principal);\n",
    "                    }\n",
    "                \n",
    "                    public async Task SetAuthenticationState(UserDto user)\n",
    "                    {\n",
    "                        if (user != null)\n",
    "                        {\n",
    "                            SetAuthorizationHeader(user.Token);\n",
    "                            var claims = ParseClaimsFromJwt(user.Token);\n",
    "                            var identity = new ClaimsIdentity(claims, \"jwt\");\n",
    "                            var principal = new ClaimsPrincipal(identity);\n",
    "                            NotifyAuthenticationStateChanged(Task.FromResult(new AuthenticationState(principal)));\n",
    "                        }\n",
    "                        else\n",
    "                        {\n",
    "                            _httpClient.DefaultRequestHeaders.Authorization = null;\n",
    "                            NotifyAuthenticationStateChanged(Task.FromResult(new AuthenticationState(new ClaimsPrincipal())));\n",
    "                        }\n",
    "                    }\n",
    "                \n",
    "                    private void SetAuthorizationHeader(string token)\n",
    "                    {\n",
    "                        _httpClient.DefaultRequestHeaders.Authorization = \n",
    "                            new System.Net.Http.Headers.AuthenticationHeaderValue(\"Bearer\", token);\n",
    "                    }\n",
    "                \n",
    "                    private IEnumerable<Claim> ParseClaimsFromJwt(string jwt)\n",
    "                    {\n",
    "                        var handler = new JwtSecurityTokenHandler();\n",
    "                        var token = handler.ReadJwtToken(jwt);\n",
    "                        return token.Claims;\n",
    "                    }\n",
    "                }\"\"\""
   ]
  },
  {
   "cell_type": "code",
   "execution_count": 40,
   "id": "da329a72-40d5-43ef-b843-c1ad65452949",
   "metadata": {},
   "outputs": [],
   "source": [
    "messages=[\n",
    "            {\"role\": \"system\", \"content\": technical_prompt},\n",
    "            {\"role\": \"user\", \"content\": user_prompt}\n",
    "          ]"
   ]
  },
  {
   "cell_type": "code",
   "execution_count": 45,
   "id": "28d1d48b-ca26-4327-a0e0-470f8a8332cc",
   "metadata": {},
   "outputs": [],
   "source": [
    "def stream_open_ai_answer():\n",
    "    load_dotenv(override=True)\n",
    "    api_key = os.getenv('OPENAI_API_KEY')\n",
    "    \n",
    "    if api_key and api_key.startswith('sk-proj-') and len(api_key)>10:\n",
    "        print(\"API key looks good so far\")\n",
    "    else:\n",
    "        print(\"There might be a problem with your API key? Please visit the troubleshooting notebook!\")\n",
    "        \n",
    "    openai = OpenAI()\n",
    "    stream_open_ai(openai,MODEL_GPT)\n"
   ]
  },
  {
   "cell_type": "code",
   "execution_count": 46,
   "id": "6b2b3d7e-2db2-48cc-a8b5-6cc54a427807",
   "metadata": {},
   "outputs": [],
   "source": [
    "def stream_open_ai_ollama_answer():\n",
    "    load_dotenv(override=True)\n",
    "    ollama_via_openai = OpenAI(base_url='http://localhost:11434/v1', api_key='ollama')\n",
    "    \n",
    "    stream_open_ai(ollama_via_openai, MODEL_LLAMA)"
   ]
  },
  {
   "cell_type": "code",
   "execution_count": 47,
   "id": "384215ef-7844-418d-83a5-437c21c7b6f1",
   "metadata": {},
   "outputs": [],
   "source": [
    "def stream_open_ai(openai, model):\n",
    "    stream = openai.chat.completions.create(\n",
    "        model=model,\n",
    "        messages=messages,\n",
    "        stream=True\n",
    "    )\n",
    "    \n",
    "    response = \"\"\n",
    "    display_handle = display(Markdown(\"\"), display_id=True)\n",
    "    for chunk in stream:\n",
    "        response += chunk.choices[0].delta.content or ''\n",
    "        response = response.replace(\"```\",\"\").replace(\"markdown\", \"\")\n",
    "        update_display(Markdown(response), display_id=display_handle.display_id)"
   ]
  },
  {
   "cell_type": "code",
   "execution_count": 48,
   "id": "da71a189-49b8-47de-b8ac-e9e4fffeb951",
   "metadata": {},
   "outputs": [
    {
     "data": {
      "text/markdown": [
       "**Bericht: Verbesserungs- und Bewertungsempfehlungen für C#-Code**\n",
       "\n",
       "**Übersicht**\n",
       "\n",
       "Der angeführte Code teilt sich in verschiedene Abfragen, die das Verhalten der Authentifizierung in einem ASP.NET Core-Anwendungen regieren. Der Schwerpunkt liegt auf der Implementierung eines Custom-Authentication-State-Providers. \n",
       "\n",
       "### Verbesserungsvorschläge\n",
       "\n",
       "*   **Vermeidung von Konfigurationsschwachstellen**: Die Verwendung von Benutzerflussvariablen (UserDto) in `SetAuthenticationState` und das anschließende Löschen der Authentifizierung, wenn kein Nutzer vorliegt, führt zu Sicherheitsrisiken. Statt des `ILocalStorageService` könnte eine einfache Methode von Windows-Datenbank oder einen authentifizierten Token speichern.\n",
       "*   **Erweiterung der Error-Handschrage**: Der Code verwendet keine detaillere Meldung bei Fehlern und Ausnahmen, die während der Verarbeitung der JWT-Bestandteile entstehen. \n",
       "*   **Verbesserung der Einheitlichkeit der Logik**: Die Methode `ParseClaimsFromJwt` könnte zu einem separaten Klasse übernommen werden. \n",
       "\n",
       "### Bewertung nach Entwickler Level\n",
       "\n",
       "**Fähigkeitsebene:** Senior/Expert\n",
       "\n",
       "**Warum?**\n",
       "Der angeführte Code zeigt eine klare und korrekte Implementierung eines Authentication-Providers, der komplexen Logik von Windows-Datenspeichern oder authentifizierten Tokens nutzt. \n",
       "\n",
       "Die Implementierung ist auf prägnante Art die Klärung von Authentifizierungsproblemen im ASP.NET Core Framework ausgeführt. Die Implementierung des JWT-Handhabers und der Token-Verarbeitung ist ein wichtiger Bestandteil dieser Analyse.\n",
       "\n",
       "Der Schwerpunkt auf der Verwendung lokaler Speicherntechnologie für authentifizierte Datei-Speicherverwaltung ermöglicht mehr sichere, prägnante und umfassende Code-Entwicklungsphasen.\n",
       "\n",
       "Die Implementierung bietet klare und komplexe Logik - ein wichtiger indikator für ein Senior/Experten-Ebene für Software-Entwicklung."
      ],
      "text/plain": [
       "<IPython.core.display.Markdown object>"
      ]
     },
     "metadata": {},
     "output_type": "display_data"
    }
   ],
   "source": [
    "stream_open_ai_ollama_answer()"
   ]
  },
  {
   "cell_type": "code",
   "execution_count": 49,
   "id": "5d3a643c-c9dc-4c60-a5c7-b6a59a418cde",
   "metadata": {},
   "outputs": [
    {
     "name": "stdout",
     "output_type": "stream",
     "text": [
      "API key looks good so far\n"
     ]
    },
    {
     "data": {
      "text/markdown": [
       "# Code-Analyse und Verbesserungsvorschläge für den C# Code\n",
       "\n",
       "## Zusammenfassung\n",
       "Der bereitgestellte C# Code implementiert einen benutzerdefinierten Authentifizierungszustandsanbieter für eine Blazor-Anwendung. Er verwendet lokale Speicherung für die Speicherung des Benutzers und verwaltet die Autorisierung durch JWT (JSON Web Tokens). \n",
       "\n",
       "## Bewertung\n",
       "**Entwicklerlevel: Normal**\n",
       "\n",
       "### Bewertungsgründe:\n",
       "- **Struktur:** Der Code hat eine klare Struktur, die die Lesbarkeit fördert. Klassen und Methoden sind klar benannt und haben eine deutliche Verantwortung.\n",
       "- **Asynchrone Programmierung:** Die Verwendung von `async` und `await` ist angemessen und zeigt ein grundlegendes Verständnis von asynchroner Programmierung in C#.\n",
       "- **Verwendung von Libraries:** Der Code nutzt Standardbibliotheken und gängige Praktiken zur JWT-Token-Verarbeitung.\n",
       "\n",
       "## Verbesserungsvorschläge\n",
       "\n",
       "1. **Fehlerbehandlung:**\n",
       "   - Es fehlt eine umfassende Fehlerbehandlung für Situationen, in denen das Token ungültig ist oder beim Zugriff auf lokale Speicherung Fehler auftreten. Implementierung von Try-Catch-Blöcken kann helfen, unerwartete Fehler zu vermeiden.\n",
       "\n",
       "2. **Token Validierung:**\n",
       "   - Vor der Nutzung des Tokens sollte eine Validierung des JWT durchgeführt werden, um sicherzustellen, dass es nicht abgelaufen oder ungültig ist. Dies sollte in die `ParseClaimsFromJwt` Methode integriert werden.\n",
       "\n",
       "3. **Verwendung von Konstanten:**\n",
       "   - Anstelle von „Bearer“ in der `SetAuthorizationHeader` Methode als Hardcodierung könnten Konstanten verwendet werden, um Änderungen in der Zukunft zu vereinfachen und den Code lesbarer zu machen.\n",
       "\n",
       "4. **Sicherheit:**\n",
       "   - Die Implementierung könnte durch zusätzliche Sicherheitsmaßnahmen verbessert werden, wie zum Beispiel die Absicherung gegen Cross-Site Script (XSS) und CSRF (Cross-Site Request Forgery). Hierzu wäre eine Analyse der gesamten Anwendung notwendig.\n",
       "\n",
       "5. **Methoden Kohäsion:**\n",
       "   - Die Methode `SetAuthenticationState` hat mehrere Verantwortlichkeiten. Es könnte sinnvoll sein, die Logik für das Erstellen des `ClaimsPrincipal` in eine separate Methode auszulagern, um die Lesbarkeit und Wartbarkeit des Codes zu verbessern.\n",
       "\n",
       "6. **Async/Await Konsistenz:**\n",
       "   - Der erste Teil der `SetAuthenticationState` Methode könnte durch eine asynchrone Implementierung dieser Logik verbessert werden, um Konsistenz im Code zu gewährleisten.\n",
       "\n",
       "7. **Dokumentation:**\n",
       "   - Es gibt wenig bis keine Kommentierung oder XML-Dokumentation. Das Hinzufügen von Kommentaren könnte das Verständnis des Codes für andere Entwickler erleichtern.\n",
       "\n",
       "8. **Unit Tests:**\n",
       "   - Es fehlen Tests zur Überprüfung der Authentifizierungslogik. Der Code sollte so gestaltet werden, dass er leicht testbar ist, und Unit Tests sollten hinzugefügt werden, um sicherzustellen, dass die Logik korrekt funktioniert.\n",
       "\n",
       "## Fazit\n",
       "Insgesamt zeigt der Code ein solides Grundverständnis von C# und der ASP.NET-Blazor-Architektur. Dennoch gibt es Raum für Verbesserungen bei der Fehlerbehandlung, Sicherheit und Lesbarkeit. Die oben genannten Verbesserungsvorschläge können dazu beitragen, die Qualität und Wartbarkeit des Codes zu erhöhen."
      ],
      "text/plain": [
       "<IPython.core.display.Markdown object>"
      ]
     },
     "metadata": {},
     "output_type": "display_data"
    }
   ],
   "source": [
    "stream_open_ai_answer()"
   ]
  },
  {
   "cell_type": "code",
   "execution_count": null,
   "id": "b0a085c9-fb86-4adb-8ddc-7ef54b287b8d",
   "metadata": {},
   "outputs": [],
   "source": []
  }
 ],
 "metadata": {
  "kernelspec": {
   "display_name": "Python 3 (ipykernel)",
   "language": "python",
   "name": "python3"
  },
  "language_info": {
   "codemirror_mode": {
    "name": "ipython",
    "version": 3
   },
   "file_extension": ".py",
   "mimetype": "text/x-python",
   "name": "python",
   "nbconvert_exporter": "python",
   "pygments_lexer": "ipython3",
   "version": "3.11.12"
  }
 },
 "nbformat": 4,
 "nbformat_minor": 5
}
