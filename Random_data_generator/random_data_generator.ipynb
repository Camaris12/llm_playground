{
 "cells": [
  {
   "cell_type": "code",
   "execution_count": 3,
   "id": "f5926290-698a-40c7-84ae-c717a585e687",
   "metadata": {},
   "outputs": [],
   "source": [
    "import os\n",
    "import requests\n",
    "import gradio as gr\n",
    "from dotenv import load_dotenv\n",
    "from IPython.display import display, update_display\n",
    "import anthropic"
   ]
  },
  {
   "cell_type": "code",
   "execution_count": 16,
   "id": "e925dc96-fa3b-4660-b48b-f3760a172877",
   "metadata": {},
   "outputs": [],
   "source": [
    "def create_system_prompt():\n",
    "    system_prompt = \"You are a Tests an has to create Test users for the System.\\n\"\n",
    "    system_prompt = \"A user should shortly introduce it self and give a reason why he/she wants to do voluntary work. \\n\"\n",
    "    system_prompt = \"Describe shortly for what he/she is looking in scope of voluntary work.\\n\"\n",
    "    system_prompt = \"Add general interstes and sepcial intrestes for voluntary work.\\n\"\n",
    "    system_prompt += \"You should respond in JSON as in this example:\"\n",
    "    system_prompt += \"\"\"\n",
    "    {\n",
    "          \"UserName\": \"Lisa\",\n",
    "          \"DateOfBirth\": \"1956-07-22\",\n",
    "          \"KnownAs\": \"Lisa\",\n",
    "          \"Created\": \"2020-06-24\",\n",
    "          \"LastActive\": \"2020-06-21\",\n",
    "          \"Introduction\": \"\",\n",
    "          \"LookingFor\": \"\",\n",
    "          \"Interests\": \"\",\n",
    "          \"City\": \"\",\n",
    "          \"Country\": \"\",\n",
    "      },\n",
    "    \"\"\"\n",
    "    return system_prompt"
   ]
  },
  {
   "cell_type": "code",
   "execution_count": 4,
   "id": "34c67b81-3b4d-4437-a619-5b0a1e493270",
   "metadata": {},
   "outputs": [
    {
     "name": "stdout",
     "output_type": "stream",
     "text": [
      "Anthropic API Key exists and begins sk-ant-\n"
     ]
    }
   ],
   "source": [
    "# Load environment variables in a file called .env\n",
    "# Print the key prefixes to help with any debugging\n",
    "\n",
    "load_dotenv(override=True)\n",
    "anthropic_api_key = os.getenv('ANTHROPIC_API_KEY')\n",
    "\n",
    "if anthropic_api_key:\n",
    "    print(f\"Anthropic API Key exists and begins {anthropic_api_key[:7]}\")\n",
    "else:\n",
    "    print(\"Anthropic API Key not set\")\n"
   ]
  },
  {
   "cell_type": "code",
   "execution_count": 24,
   "id": "37b3773e-83ef-4755-b6a3-fc2ed39ffb2d",
   "metadata": {},
   "outputs": [],
   "source": [
    "def generate_data(count):\n",
    "    claude = anthropic.Anthropic()\n",
    "    message = claude.messages.create(\n",
    "                model=\"claude-3-7-sonnet-latest\",\n",
    "                max_tokens=5000,\n",
    "                temperature=0.7,\n",
    "                system=create_system_prompt(),\n",
    "                messages=[\n",
    "                    {\"role\": \"user\", \"content\": f\"Please generate {count} users located in Germany, not older than 30 and text should be German. The username should be not contain the city\" },\n",
    "                ],\n",
    "            )\n",
    "    return message.content[0].text"
   ]
  },
  {
   "cell_type": "code",
   "execution_count": 26,
   "id": "b2062981-444b-4f49-9a1d-035464d63f85",
   "metadata": {},
   "outputs": [
    {
     "name": "stdout",
     "output_type": "stream",
     "text": [
      "* Running on local URL:  http://127.0.0.1:7870\n",
      "* To create a public link, set `share=True` in `launch()`.\n"
     ]
    },
    {
     "data": {
      "text/html": [
       "<div><iframe src=\"http://127.0.0.1:7870/\" width=\"100%\" height=\"500\" allow=\"autoplay; camera; microphone; clipboard-read; clipboard-write;\" frameborder=\"0\" allowfullscreen></iframe></div>"
      ],
      "text/plain": [
       "<IPython.core.display.HTML object>"
      ]
     },
     "metadata": {},
     "output_type": "display_data"
    },
    {
     "data": {
      "text/plain": []
     },
     "execution_count": 26,
     "metadata": {},
     "output_type": "execute_result"
    },
    {
     "name": "stderr",
     "output_type": "stream",
     "text": [
      "Traceback (most recent call last):\n",
      "  File \"D:\\Anaconda\\envs\\llms\\Lib\\site-packages\\gradio\\queueing.py\", line 626, in process_events\n",
      "    response = await route_utils.call_process_api(\n",
      "               ^^^^^^^^^^^^^^^^^^^^^^^^^^^^^^^^^^^\n",
      "  File \"D:\\Anaconda\\envs\\llms\\Lib\\site-packages\\gradio\\route_utils.py\", line 322, in call_process_api\n",
      "    output = await app.get_blocks().process_api(\n",
      "             ^^^^^^^^^^^^^^^^^^^^^^^^^^^^^^^^^^^\n",
      "  File \"D:\\Anaconda\\envs\\llms\\Lib\\site-packages\\gradio\\blocks.py\", line 2220, in process_api\n",
      "    result = await self.call_function(\n",
      "             ^^^^^^^^^^^^^^^^^^^^^^^^^\n",
      "  File \"D:\\Anaconda\\envs\\llms\\Lib\\site-packages\\gradio\\blocks.py\", line 1731, in call_function\n",
      "    prediction = await anyio.to_thread.run_sync(  # type: ignore\n",
      "                 ^^^^^^^^^^^^^^^^^^^^^^^^^^^^^^^^^^^^^^^^^^^^^^^\n",
      "  File \"D:\\Anaconda\\envs\\llms\\Lib\\site-packages\\anyio\\to_thread.py\", line 56, in run_sync\n",
      "    return await get_async_backend().run_sync_in_worker_thread(\n",
      "           ^^^^^^^^^^^^^^^^^^^^^^^^^^^^^^^^^^^^^^^^^^^^^^^^^^^^\n",
      "  File \"D:\\Anaconda\\envs\\llms\\Lib\\site-packages\\anyio\\_backends\\_asyncio.py\", line 2470, in run_sync_in_worker_thread\n",
      "    return await future\n",
      "           ^^^^^^^^^^^^\n",
      "  File \"D:\\Anaconda\\envs\\llms\\Lib\\site-packages\\anyio\\_backends\\_asyncio.py\", line 967, in run\n",
      "    result = context.run(func, *args)\n",
      "             ^^^^^^^^^^^^^^^^^^^^^^^^\n",
      "  File \"D:\\Anaconda\\envs\\llms\\Lib\\site-packages\\gradio\\utils.py\", line 940, in wrapper\n",
      "    response = f(*args, **kwargs)\n",
      "               ^^^^^^^^^^^^^^^^^^\n",
      "  File \"C:\\Users\\kaysc\\AppData\\Local\\Temp\\ipykernel_11620\\776285285.py\", line 3, in generate_data\n",
      "    message = claude.messages.create(\n",
      "              ^^^^^^^^^^^^^^^^^^^^^^^\n",
      "  File \"D:\\Anaconda\\envs\\llms\\Lib\\site-packages\\anthropic\\_utils\\_utils.py\", line 283, in wrapper\n",
      "    return func(*args, **kwargs)\n",
      "           ^^^^^^^^^^^^^^^^^^^^^\n",
      "  File \"D:\\Anaconda\\envs\\llms\\Lib\\site-packages\\anthropic\\resources\\messages\\messages.py\", line 997, in create\n",
      "    return self._post(\n",
      "           ^^^^^^^^^^^\n",
      "  File \"D:\\Anaconda\\envs\\llms\\Lib\\site-packages\\anthropic\\_base_client.py\", line 1314, in post\n",
      "    return cast(ResponseT, self.request(cast_to, opts, stream=stream, stream_cls=stream_cls))\n",
      "                           ^^^^^^^^^^^^^^^^^^^^^^^^^^^^^^^^^^^^^^^^^^^^^^^^^^^^^^^^^^^^^^^^^\n",
      "  File \"D:\\Anaconda\\envs\\llms\\Lib\\site-packages\\anthropic\\_base_client.py\", line 1102, in request\n",
      "    raise self._make_status_error_from_response(err.response) from None\n",
      "anthropic._exceptions.OverloadedError: Error code: 529 - {'type': 'error', 'error': {'type': 'overloaded_error', 'message': 'Overloaded'}}\n"
     ]
    }
   ],
   "source": [
    "view = gr.Interface(\n",
    "    fn=generate_data,\n",
    "    inputs=[gr.Textbox(label=\"Wie viele Datensätze:\")],\n",
    "    outputs=[gr.Textbox(label=\"Response:\")],\n",
    "    flagging_mode=\"never\"\n",
    ")\n",
    "view.launch()"
   ]
  },
  {
   "cell_type": "code",
   "execution_count": null,
   "id": "8f034c1e-614d-4c51-9e7b-5f8b934d1989",
   "metadata": {},
   "outputs": [],
   "source": []
  }
 ],
 "metadata": {
  "kernelspec": {
   "display_name": "Python 3 (ipykernel)",
   "language": "python",
   "name": "python3"
  },
  "language_info": {
   "codemirror_mode": {
    "name": "ipython",
    "version": 3
   },
   "file_extension": ".py",
   "mimetype": "text/x-python",
   "name": "python",
   "nbconvert_exporter": "python",
   "pygments_lexer": "ipython3",
   "version": "3.11.13"
  }
 },
 "nbformat": 4,
 "nbformat_minor": 5
}
